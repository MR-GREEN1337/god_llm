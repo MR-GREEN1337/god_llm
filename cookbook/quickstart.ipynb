{
 "cells": [
  {
   "cell_type": "code",
   "execution_count": 1,
   "metadata": {},
   "outputs": [],
   "source": [
    "import sys\n",
    "import os\n",
    "\n",
    "# Add the project directory to the Python path\n",
    "project_root = os.path.abspath(os.path.join(os.getcwd(), \"..\"))\n",
    "if project_root not in sys.path:\n",
    "    sys.path.append(project_root)"
   ]
  },
  {
   "cell_type": "code",
   "execution_count": null,
   "metadata": {},
   "outputs": [],
   "source": [
    "print(os.environ.get(\"GROQ_API_KEY\"))"
   ]
  },
  {
   "cell_type": "code",
   "execution_count": null,
   "metadata": {},
   "outputs": [],
   "source": [
    "from god_llm.core.god import God\n",
    "from god_llm.plugins.groq import ChatGroq\n",
    "\n",
    "llm = ChatGroq(\n",
    "    model_name=\"llama-3.1-70b-versatile\",\n",
    "    api_key=\"gsk_oLJNYyXBJsbhTjKncdhaWGdyb3FY7SERaUTLJqfQpPS1RSwkbkjoKyhH\",\n",
    ")\n",
    "god = God(llm=llm)\n",
    "\n",
    "god.expand(\"hello there\")"
   ]
  },
  {
   "cell_type": "code",
   "execution_count": null,
   "metadata": {},
   "outputs": [],
   "source": [
    "trajec = god.pray(k=1)\n",
    "\n",
    "trajec"
   ]
  },
  {
   "cell_type": "code",
   "execution_count": null,
   "metadata": {},
   "outputs": [],
   "source": [
    "[node.thought.content for node in god.nodes.values()]"
   ]
  },
  {
   "cell_type": "code",
   "execution_count": null,
   "metadata": {},
   "outputs": [],
   "source": [
    "from god_llm.templates.base import TemplateManager\n",
    "\n",
    "manager = TemplateManager()\n",
    "\n",
    "manager.list_templates()\n",
    "\n",
    "template = manager.get_template(\"thought_generator\")\n",
    "\n",
    "template = template.format(context=\"I am a llama\")\n",
    "\n",
    "print(template)"
   ]
  },
  {
   "cell_type": "code",
   "execution_count": null,
   "metadata": {},
   "outputs": [],
   "source": [
    "from god_llm.core.god import God\n",
    "from god_llm.plugins.groq import ChatGroq\n",
    "\n",
    "llm = ChatGroq(\n",
    "    model_name=\"llama-3.1-70b-versatile\",\n",
    "    api_key=\"gsk_oLJNYyXBJsbhTjKncdhaWGdyb3FY7SERaUTLJqfQpPS1RSwoKyPPhH\", # This isn't a valid key\n",
    ")\n",
    "god = God(llm=llm, debug=True,similarity_threshold=0.4)\n",
    "\n",
    "god.expand(\"USA Founding fathers moralities in detail\")"
   ]
  },
  {
   "cell_type": "code",
   "execution_count": null,
   "metadata": {},
   "outputs": [],
   "source": [
    "trajec = god.pray()\n",
    "\n",
    "trajec"
   ]
  },
  {
   "cell_type": "code",
   "execution_count": null,
   "metadata": {},
   "outputs": [],
   "source": [
    "miracles = god.miracle_to_markdown(k=6)"
   ]
  },
  {
   "cell_type": "code",
   "execution_count": null,
   "metadata": {},
   "outputs": [],
   "source": [
    "miracles"
   ]
  },
  {
   "cell_type": "code",
   "execution_count": null,
   "metadata": {},
   "outputs": [],
   "source": [
    "god.visualize()"
   ]
  }
 ],
 "metadata": {
  "kernelspec": {
   "display_name": "data-collection-_uqCCbrm-py3.12",
   "language": "python",
   "name": "python3"
  },
  "language_info": {
   "codemirror_mode": {
    "name": "ipython",
    "version": 3
   },
   "file_extension": ".py",
   "mimetype": "text/x-python",
   "name": "python",
   "nbconvert_exporter": "python",
   "pygments_lexer": "ipython3",
   "version": "3.12.6"
  }
 },
 "nbformat": 4,
 "nbformat_minor": 2
}
